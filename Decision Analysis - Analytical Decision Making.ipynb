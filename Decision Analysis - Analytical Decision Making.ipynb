{
  "nbformat": 4,
  "nbformat_minor": 0,
  "metadata": {
    "colab": {
      "provenance": []
    },
    "kernelspec": {
      "name": "python3",
      "display_name": "Python 3"
    },
    "language_info": {
      "name": "python"
    }
  },
  "cells": [
    {
      "cell_type": "markdown",
      "source": [
        "# **Problem 1: Hohman Case**"
      ],
      "metadata": {
        "id": "iiHRP6wEIqCr"
      }
    },
    {
      "cell_type": "code",
      "execution_count": 2,
      "metadata": {
        "colab": {
          "base_uri": "https://localhost:8080/"
        },
        "id": "OfHeS1KAN34s",
        "outputId": "071acebd-894e-4e0d-e6e5-7ef9b4a6ca0d"
      },
      "outputs": [
        {
          "output_type": "stream",
          "name": "stdout",
          "text": [
            "El Capitan should attempt the repairs and sail to Durban. The expected cost of repairs, all things considered, is $1940800 which is cheaper than accepting the tow, which sits at $6M.\n",
            "1940800 6000000.0\n"
          ]
        }
      ],
      "source": [
        "# Parameters\n",
        "ship_value = 40000000  # in dollars\n",
        "tow_cost_percent = 0.15\n",
        "value_of_life = 200000  # in dollars per person\n",
        "crew_size = 28\n",
        "prob_successful_repairs = 0.8\n",
        "prob_bad_weather = 0.2\n",
        "prob_ann_marie_available = 0.75\n",
        "prob_sinking_if_no_steerage = 0.9\n",
        "prob_loss_of_life_if_sinking = 0.5\n",
        "\n",
        "# Tow cost\n",
        "tow_cost = tow_cost_percent * ship_value\n",
        "\n",
        "# Scenario 1: Accept Tow\n",
        "expected_cost_tow = tow_cost\n",
        "\n",
        "# Scenario 2: Attempt Repairs and Sail to Durban\n",
        "# If weather holds\n",
        "prob_weather_holds = 1 - prob_bad_weather\n",
        "expected_cost_repairs_successful_weather_holds = 0  # repairs successful, no additional cost\n",
        "expected_cost_repairs_failed_weather_holds = tow_cost * (1 - prob_ann_marie_available)  # if Ann-Marie is not available, then the cost is the risk of ship loss\n",
        "expected_cost_weather_holds = (prob_successful_repairs * expected_cost_repairs_successful_weather_holds +\n",
        "                               (1 - prob_successful_repairs) * expected_cost_repairs_failed_weather_holds)\n",
        "\n",
        "# If bad weather develops\n",
        "expected_cost_repairs_successful_bad_weather = 0  # maintain steerage, no additional cost\n",
        "expected_cost_repairs_failed_bad_weather = (ship_value +\n",
        "                                            (prob_sinking_if_no_steerage * prob_loss_of_life_if_sinking * crew_size * value_of_life))  # cost of ship and loss of life\n",
        "\n",
        "expected_cost_bad_weather = (prob_successful_repairs * expected_cost_repairs_successful_bad_weather +\n",
        "                             (1 - prob_successful_repairs) * expected_cost_repairs_failed_bad_weather)\n",
        "\n",
        "# Total expected cost for attempting repairs and sailing\n",
        "expected_cost_repairs = round((prob_weather_holds * expected_cost_weather_holds +\n",
        "                         prob_bad_weather * expected_cost_bad_weather))\n",
        "\n",
        "\n",
        "if expected_cost_repairs < expected_cost_tow:\n",
        "  print(f'El Capitan should attempt the repairs and sail to Durban. The expected cost of repairs, all things considered, is ${expected_cost_repairs} which is cheaper than accepting the tow, which sits at $6M.')\n",
        "else:\n",
        "  print('Accept the tow')\n",
        "\n",
        "print(expected_cost_repairs, expected_cost_tow )"
      ]
    },
    {
      "cell_type": "markdown",
      "source": [
        "# **Problem 2: Computer Disk Drives**"
      ],
      "metadata": {
        "id": "GJrS6tVMIWxC"
      }
    },
    {
      "cell_type": "code",
      "source": [
        "import numpy as np\n",
        "# To solve this problem, we will use Numpy (Numpy is a Python library which is used for mathematical computations, and Numpy stands for Numerical Python)\n",
        "import pandas as pd\n",
        "# To display the results in a dataframe format, we will use Pandas (Pandas is a Python library used for working with datasets)\n",
        "\n",
        "# Constants (probabilities and costs) as specified in the problem statement\n",
        "probability_defective_drive = 0.1\n",
        "probability_good_drive = 1 - probability_defective_drive\n",
        "profit_good_drive_install = 300\n",
        "cost_rework_after_install = 200\n",
        "profit_rework_after_install = profit_good_drive_install - cost_rework_after_install\n",
        "cost_rework_before_install = 100\n",
        "profit_rework_before_install = profit_good_drive_install - cost_rework_before_install\n",
        "cost_testing = 25\n",
        "probability_bad_drive_pass_test = 0.1\n",
        "probability_good_drive_fail_test = 0.2\n",
        "\n",
        "# Applying Bayes' Theorem for Test - Pass and Fail\n",
        "# P(Good Drive |Test Pass) = (P(Test Pass|Good Drive) * P(Good Drive)) / P(Test Pass)\n",
        "# P(Bad Drive|Test Pass) = (P(Test Pass|Bad Drive) * P(Bad Drive)) / P(Test Pass)\n",
        "# P(Test Pass) = P(Test Pass|Good Drive) * P(Good Drive) + P(Test Pass|Bad Drive) * P(Bad Drive)\n",
        "probability_test_pass = probability_good_drive * (1 - probability_good_drive_fail_test) + probability_defective_drive * probability_bad_drive_pass_test\n",
        "probability_test_pass_good_drive = (probability_good_drive * (1 - probability_good_drive_fail_test)) / probability_test_pass\n",
        "probability_test_pass_bad_drive = (probability_defective_drive * probability_bad_drive_pass_test) / probability_test_pass\n",
        "\n",
        "# P(Good Drive|Test Fail) = (P(Test Fail|Good Drive) * P(Good Drive)) / P(Test Fail)\n",
        "# P(Bad Drive|Test Fail) = (P(Test Fail|Bad Drive) * P(Bad Drive)) / P(Test Fail)\n",
        "# P(Test Fail) = P(Test Fail|Good Drive) * P(Good Drive) + P(Test Fail|Bad Drive) * P(Bad Drive)\n",
        "probability_test_fail = probability_good_drive * probability_good_drive_fail_test + probability_defective_drive * (1 - probability_bad_drive_pass_test)\n",
        "probability_test_fail_good_drive = (probability_good_drive * probability_good_drive_fail_test) / probability_test_fail\n",
        "probability_test_fail_bad_drive = (probability_defective_drive * (1 - probability_bad_drive_pass_test)) / probability_test_fail\n",
        "\n",
        "# Expected profit if installing without testing\n",
        "expected_profit_install = probability_good_drive * profit_good_drive_install + probability_defective_drive * profit_rework_after_install\n",
        "\n",
        "# Expected profit if reworking before installation\n",
        "expected_profit_rework_before = profit_rework_before_install\n",
        "\n",
        "# Expected profit if testing first\n",
        "# Expected profit if the test result is Pass\n",
        "expected_profit_pass = probability_test_pass_good_drive * profit_good_drive_install + probability_test_pass_bad_drive * profit_rework_after_install\n",
        "\n",
        "# Expected profit if the test result is Fail\n",
        "expected_profit_fail = profit_rework_before_install\n",
        "\n",
        "# Total expected profit for testing first\n",
        "expected_profit_test = probability_test_pass * (expected_profit_pass - cost_testing) + probability_test_fail * (expected_profit_fail - cost_testing)\n",
        "\n",
        "# Compare the expected profits and choose the best decision\n",
        "best_decision = max((\"Install without testing\",expected_profit_install), (\"Rework before installation\",expected_profit_rework_before), (\"Test first, then decide\",expected_profit_test),key=lambda x: x[1])\n",
        "\n",
        "# Displaying the results\n",
        "results = pd.DataFrame({\"Decision\": [\"Install without testing\", \"Rework before installation\", \"Test first, then decide\"],\"Expected Profit ($)\": [expected_profit_install, expected_profit_rework_before, expected_profit_test]})\n",
        "print(results);print(f\"\\nAs the production manager for this firm, the best (most profitable) decision is to '{best_decision[0]}' with an expected profit of ${best_decision[1]}\")\n"
      ],
      "metadata": {
        "colab": {
          "base_uri": "https://localhost:8080/"
        },
        "id": "nSwAOTjMIOvo",
        "outputId": "e76537d5-0d4e-416b-b755-0d661d208a3f"
      },
      "execution_count": 1,
      "outputs": [
        {
          "output_type": "stream",
          "name": "stdout",
          "text": [
            "                     Decision  Expected Profit ($)\n",
            "0     Install without testing                280.0\n",
            "1  Rework before installation                200.0\n",
            "2     Test first, then decide                246.0\n",
            "\n",
            "As the production manager for this firm, the best (most profitable) decision is to 'Install without testing' with an expected profit of $280.0\n"
          ]
        }
      ]
    },
    {
      "cell_type": "markdown",
      "source": [
        "# **Problem 3: Morris Manufacturing Company**"
      ],
      "metadata": {
        "id": "Mk9dQFI-IkZV"
      }
    },
    {
      "cell_type": "code",
      "source": [
        "# Define the probabilities and values\n",
        "dayton_bid_220k_prob = 0.90\n",
        "dayton_bid_280k_prob = 0.50\n",
        "dayton_bid_350k_prob = 0.25\n",
        "\n",
        "stern_purchase_prob = 0.30\n",
        "stern_price_100k_prob = 0.20\n",
        "stern_price_150k_prob = 0.70\n",
        "stern_price_180k_prob = 0.10\n",
        "\n",
        "scrap_value = 50000\n",
        "\n",
        "# Costs associated with different actions\n",
        "stern_sale_cost = 10000\n",
        "design_revision_cost = 20000\n",
        "\n",
        "# Values for selling to Stern\n",
        "stern_value_100k = 100000 - stern_sale_cost\n",
        "stern_value_150k = 150000 - stern_sale_cost\n",
        "stern_value_180k = 180000 - stern_sale_cost\n",
        "\n",
        "# Calculate expected value for selling to Stern directly\n",
        "stern_expected_value = (\n",
        "    stern_purchase_prob * (\n",
        "        stern_price_100k_prob * stern_value_100k +\n",
        "        stern_price_150k_prob * stern_value_150k +\n",
        "        stern_price_180k_prob * stern_value_180k))\n",
        "\n",
        "# Calculating expected value for selling to Stern after Dayton rejects\n",
        "stern_reject_dayton_prob = 0.15\n",
        "stern_expected_value_after_dayton = (\n",
        "    stern_reject_dayton_prob * (\n",
        "        stern_price_100k_prob * stern_value_100k +\n",
        "        stern_price_150k_prob * stern_value_150k +\n",
        "        stern_price_180k_prob * stern_value_180k))\n",
        "\n",
        "# Expected values for different bids to Dayton\n",
        "expected_value_dayton_220k = (\n",
        "    dayton_bid_220k_prob * 220000 - design_revision_cost +\n",
        "    (1 - dayton_bid_220k_prob) * stern_expected_value_after_dayton)\n",
        "\n",
        "expected_value_dayton_280k = (\n",
        "    dayton_bid_280k_prob * 280000 - design_revision_cost +\n",
        "    (1 - dayton_bid_280k_prob) * stern_expected_value_after_dayton)\n",
        "\n",
        "expected_value_dayton_350k = (\n",
        "    dayton_bid_350k_prob * 350000 - design_revision_cost +\n",
        "    (1 - dayton_bid_350k_prob) * stern_expected_value_after_dayton)\n",
        "\n",
        "# Calculating the expected value of scrapping the crane\n",
        "scrap_expected_value = scrap_value\n",
        "\n",
        "# Determining the optimal decision\n",
        "decisions = {\n",
        "    \"Sell to Dayton at 220k\": expected_value_dayton_220k,\n",
        "    \"Sell to Dayton at 280k\": expected_value_dayton_280k,\n",
        "    \"Sell to Dayton at 350k\": expected_value_dayton_350k,\n",
        "    \"Sell to Stern directly\": stern_expected_value,\n",
        "    \"Scrap the crane\": scrap_expected_value}\n",
        "\n",
        "# Finding the decision with the highest expected value\n",
        "optimal_decision = max(decisions, key=decisions.get)\n",
        "optimal_decision, decisions[optimal_decision]\n"
      ],
      "metadata": {
        "colab": {
          "base_uri": "https://localhost:8080/"
        },
        "id": "0qWlMJFrUDeM",
        "outputId": "913eff09-0b96-4bdc-dede-2d1ecedd4b63"
      },
      "execution_count": 3,
      "outputs": [
        {
          "output_type": "execute_result",
          "data": {
            "text/plain": [
              "('Sell to Dayton at 220k', 179995.0)"
            ]
          },
          "metadata": {},
          "execution_count": 3
        }
      ]
    },
    {
      "cell_type": "code",
      "source": [],
      "metadata": {
        "id": "TFjtH8wDI-8c"
      },
      "execution_count": null,
      "outputs": []
    }
  ]
}