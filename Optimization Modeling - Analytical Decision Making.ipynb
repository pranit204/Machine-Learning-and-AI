{
  "nbformat": 4,
  "nbformat_minor": 0,
  "metadata": {
    "colab": {
      "provenance": []
    },
    "kernelspec": {
      "name": "python3",
      "display_name": "Python 3"
    },
    "language_info": {
      "name": "python"
    }
  },
  "cells": [
    {
      "cell_type": "markdown",
      "source": [
        "*Installing pulp which is a linear programming library in Python*"
      ],
      "metadata": {
        "id": "EXBXC_Tsj-Sh"
      }
    },
    {
      "cell_type": "code",
      "source": [
        "pip install pulp"
      ],
      "metadata": {
        "colab": {
          "base_uri": "https://localhost:8080/"
        },
        "id": "heQYrQZjj8Oa",
        "outputId": "f9136904-21e1-424c-a31f-bec644e41e7b"
      },
      "execution_count": 19,
      "outputs": [
        {
          "output_type": "stream",
          "name": "stdout",
          "text": [
            "Requirement already satisfied: pulp in /usr/local/lib/python3.10/dist-packages (2.9.0)\n"
          ]
        }
      ]
    },
    {
      "cell_type": "markdown",
      "source": [
        "# **Problem 1 - Sitting Sales Representatives**"
      ],
      "metadata": {
        "id": "3FZd-lqqlhZW"
      }
    },
    {
      "cell_type": "code",
      "execution_count": 20,
      "metadata": {
        "colab": {
          "base_uri": "https://localhost:8080/"
        },
        "id": "_Rog0YCIbl7a",
        "outputId": "1417c046-5d4f-4130-d250-691b569a4d2e"
      },
      "outputs": [
        {
          "output_type": "stream",
          "name": "stdout",
          "text": [
            "Number of sales representatives assigned to each district:\n",
            "District 1: 0.0 representatives\n",
            "District 2: 0.0 representatives\n",
            "District 3: 5.0 representatives\n",
            "District 4: 0.0 representatives\n",
            "\n",
            "Number of calls made by representatives from each district to each district:\n",
            "Calls from District 1 to District 1: 0.0\n",
            "Calls from District 1 to District 2: 0.0\n",
            "Calls from District 1 to District 3: 0.0\n",
            "Calls from District 1 to District 4: 0.0\n",
            "Calls from District 2 to District 1: 0.0\n",
            "Calls from District 2 to District 2: 0.0\n",
            "Calls from District 2 to District 3: 0.0\n",
            "Calls from District 2 to District 4: 0.0\n",
            "Calls from District 3 to District 1: 50.0\n",
            "Calls from District 3 to District 2: 80.0\n",
            "Calls from District 3 to District 3: 100.0\n",
            "Calls from District 3 to District 4: 60.0\n",
            "Calls from District 4 to District 1: 0.0\n",
            "Calls from District 4 to District 2: 0.0\n",
            "Calls from District 4 to District 3: 0.0\n",
            "Calls from District 4 to District 4: 0.0\n",
            "\n",
            "Total Cost: $488,000.00\n"
          ]
        }
      ],
      "source": [
        "# import pulp\n",
        "import pulp\n",
        "\n",
        "# Defining the question\n",
        "question = pulp.LpProblem(\"Sales_Representative_Assignment\", pulp.LpMinimize)\n",
        "\n",
        "# Defining decision variables\n",
        "\n",
        "# A list of integer variables representing the number of sales representatives in each of the 4 districts.\n",
        "num_reps = [pulp.LpVariable(f'num_reps_{i}', lowBound=0, cat='Integer') for i in range(4)]\n",
        "\n",
        "# A 2D list of continuous variables representing the number of calls made from each district to each district.\n",
        "num_calls = [[pulp.LpVariable(f'calls_{i}_{j}', lowBound=0, cat='Continuous') for j in range(4)] for i in range(4)]\n",
        "\n",
        "# A list of binary variables indicating whether fixed costs apply to each district (1 if at least one representative is assigned, 0 otherwise).\n",
        "fixed_cost_indicators = [pulp.LpVariable(f'fixed_cost_{i}', cat='Binary') for i in range(4)]\n",
        "\n",
        "# Define the cost coefficients\n",
        "# The fixed cost for assigning at least one representative to a district.\n",
        "fixed_cost = 88000\n",
        "\n",
        "# The variable cost per representative.\n",
        "variable_cost = 80000\n",
        "\n",
        "# Defining the time matrix, a matrix representing the time (in hours) required for calls between districts.\n",
        "time_matrix = [\n",
        "    [1, 4, 5, 7],\n",
        "    [4, 1, 3, 5],\n",
        "    [5, 3, 1, 2],\n",
        "    [7, 5, 2, 1]]\n",
        "\n",
        "# Defining a list of the required number of calls each district needs to receive.\n",
        "required_calls = [50, 80, 100, 60]\n",
        "\n",
        "# Objective function: Minimize the total cost, the total cost, which is the sum of fixed and variable costs for each district.\n",
        "total_cost = sum(fixed_cost_indicators[i] * fixed_cost + variable_cost * num_reps[i] for i in range(4))\n",
        "\n",
        "# Adding the objective function to the problem.\n",
        "question += total_cost\n",
        "\n",
        "# Constraints for meeting the required number of calls, this ensures that each district receives at least the required number of calls.\n",
        "for j in range(4):\n",
        "    question += sum(num_calls[i][j] for i in range(4)) >= required_calls[j]\n",
        "\n",
        "# Constraints for the working hours of each sales representative\n",
        "# Ensuring that the total working hours for representatives in each district do not exceed 160 hours per representative and that if a fixed cost is incurred, there is at least one representative assigned to the district.\n",
        "for i in range(4):\n",
        "    question += sum(time_matrix[i][j] * num_calls[i][j] for j in range(4)) <= 160 * num_reps[i]\n",
        "    question += num_reps[i] >= fixed_cost_indicators[i]\n",
        "\n",
        "# Ensuring the binary variable correctly reflects if there are any representatives\n",
        "for i in range(4):\n",
        "    question += num_reps[i] <= 100 * fixed_cost_indicators[i]  # Assuming a high enough number of reps as upper bound\n",
        "\n",
        "# Solving the problem\n",
        "question.solve()\n",
        "\n",
        "# Printing the results in a readable format\n",
        "print(\"Number of sales representatives assigned to each district:\")\n",
        "for i in range(4):\n",
        "    print(f\"District {i+1}: {num_reps[i].varValue} representatives\")\n",
        "\n",
        "print(\"\\nNumber of calls made by representatives from each district to each district:\")\n",
        "for i in range(4):\n",
        "    for j in range(4):\n",
        "        print(f\"Calls from District {i+1} to District {j+1}: {num_calls[i][j].varValue}\")\n",
        "print(f\"\\nTotal Cost: ${pulp.value(question.objective):,.2f}\")\n"
      ]
    },
    {
      "cell_type": "markdown",
      "source": [
        "# **Problem 2 - The Wild Turkey Company**"
      ],
      "metadata": {
        "id": "aiK_WewtlrOQ"
      }
    },
    {
      "cell_type": "code",
      "source": [
        "# Defining the question\n",
        "question = pulp.LpProblem(\"Maximize Wild Turkey's Profit\", pulp.LpMaximize)\n",
        "\n",
        "# Defining the variables\n",
        "# cutlet_1_produced: pounds of cutlet 1 produced\n",
        "cutlet_1_produced = pulp.LpVariable('x1', lowBound=0, cat='Continuous') # lowbound =0 as production cannot be negative, cat=Continuous as these variables can take any value\n",
        "\n",
        "# cutlet_2_produced: pounds of cutlet 2 produced\n",
        "cutlet_2_produced = pulp.LpVariable('x2', lowBound=0, cat='Continuous') # lowbound =0 as production cannot be negative, cat=Continuous as these variables can take any value\n",
        "\n",
        "# turkey_1_purchased: number of type 1 turkeys purchased\n",
        "turkey_1_purchased = pulp.LpVariable('t1', lowBound=100, cat='Integer')  # Minimum purchase constraint included here, category=Integer as the number of turkeys purchased cannot be a fraction\n",
        "\n",
        "# turkey_2_purchased: number of type 2 turkeys purchased\n",
        "turkey_2_purchased = pulp.LpVariable('t2', lowBound=0, cat='Integer') # No minimum purchase constraint included here, category=Integer as the number of turkeys purchased cannot be a fraction\n",
        "\n",
        "# Objective Function: Maximize profitability\n",
        "profit = 4 * cutlet_1_produced + 3 * cutlet_2_produced - 10 * turkey_1_purchased - 8 * turkey_2_purchased\n",
        "question += profit\n",
        "\n",
        "# Total white and dark meat available from purchased turkeys\n",
        "white_meat = 5 * turkey_1_purchased + 3 * turkey_2_purchased\n",
        "dark_meat = 2 * turkey_1_purchased + 3 * turkey_2_purchased\n",
        "\n",
        "# White meat constraints (no dark meat constraints required)\n",
        "question += cutlet_1_produced * 0.7 + cutlet_2_produced * 0.6 <= white_meat  # Total white meat used in both cutlets\n",
        "\n",
        "# Total meat constraints\n",
        "question += cutlet_1_produced + cutlet_2_produced <= white_meat + dark_meat  # Ensure we have enough total meat for both cutlets\n",
        "\n",
        "# Minimum purchase constraint\n",
        "question += turkey_1_purchased >=100\n",
        "\n",
        "# Capacity constraints for cutlet 1 and cutlet 2\n",
        "question += cutlet_1_produced <= 5000\n",
        "question += cutlet_2_produced <= 3000\n",
        "\n",
        "# Solve the problem\n",
        "question.solve()\n",
        "\n",
        "# Output results\n",
        "print(f\"Number of pounds of cutlet 1 produced: {cutlet_1_produced.varValue}\")\n",
        "print(f\"Number of pounds of cutlet 2 produced: {cutlet_2_produced.varValue}\")\n",
        "print(f\"Number of type 1 turkeys purchased: {turkey_1_purchased.varValue}\")\n",
        "print(f\"Number of type 2 turkeys purchased: {turkey_2_purchased.varValue}\")\n",
        "print(f\"Total profit: ${pulp.value(question.objective)}\")\n"
      ],
      "metadata": {
        "colab": {
          "base_uri": "https://localhost:8080/"
        },
        "id": "Y4o3okECbvmB",
        "outputId": "2d8c6827-3605-4477-ce4c-9cb758e51a87"
      },
      "execution_count": 21,
      "outputs": [
        {
          "output_type": "stream",
          "name": "stdout",
          "text": [
            "Number of pounds of cutlet 1 produced: 5000.0\n",
            "Number of pounds of cutlet 2 produced: 3000.0\n",
            "Number of type 1 turkeys purchased: 867.0\n",
            "Number of type 2 turkeys purchased: 322.0\n",
            "Total profit: $17754.0\n"
          ]
        },
        {
          "output_type": "stream",
          "name": "stderr",
          "text": [
            "/usr/local/lib/python3.10/dist-packages/pulp/pulp.py:1298: UserWarning: Spaces are not permitted in the name. Converted to '_'\n",
            "  warnings.warn(\"Spaces are not permitted in the name. Converted to '_'\")\n"
          ]
        }
      ]
    },
    {
      "cell_type": "markdown",
      "source": [
        "# **Problem 3 - Kingston Manufacturing**"
      ],
      "metadata": {
        "id": "MNPpKQ1WrmMi"
      }
    },
    {
      "cell_type": "code",
      "source": [
        "import pulp as lp\n",
        "\n",
        "# Defining the problem\n",
        "prob = lp.LpProblem(\"Kingston_Manufacturing\", lp.LpMinimize)\n",
        "\n",
        "# Decision variables as specified in the problem statement\n",
        "weeks = range(1, 10)\n",
        "P_production = lp.LpVariable.dicts(\"P_production\", weeks, 0)\n",
        "H_production = lp.LpVariable.dicts(\"H_production\", weeks, 0)\n",
        "P_inventory = lp.LpVariable.dicts(\"P_inventory\", weeks, 0)\n",
        "H_inventory = lp.LpVariable.dicts(\"H_inventory\", weeks, 0)\n",
        "changeover = lp.LpVariable.dicts(\"changeover\", weeks, 0, 1, lp.LpBinary)\n",
        "produce_P = lp.LpVariable.dicts(\"produce_P\", weeks, 0, 1, lp.LpBinary)\n",
        "\n",
        "# Constants as specified in the problem statement\n",
        "demand_P = {1: 55, 2: 55, 3: 44, 4: 0, 5: 45, 6: 45, 7: 36, 8: 35, 9: 35}\n",
        "demand_H = {1: 38, 2: 38, 3: 30, 4: 0, 5: 48, 6: 48, 7: 58, 8: 57, 9: 58}\n",
        "P_initial_inventory = 125\n",
        "H_initial_inventory = 143\n",
        "P_production_capacity = 100\n",
        "H_production_capacity = 80\n",
        "P_production_cost = 225\n",
        "H_production_cost = 310\n",
        "changeover_cost = 500\n",
        "inventory_cost_rate = 0.195 / 52  # Weekly rate\n",
        "\n",
        "# Objective function components\n",
        "production_cost = lp.lpSum(P_production[i] * P_production_cost + H_production[i] * H_production_cost for i in weeks)\n",
        "inventory_cost = lp.lpSum(P_inventory[i] * P_production_cost * inventory_cost_rate + H_inventory[i] * H_production_cost * inventory_cost_rate for i in weeks)\n",
        "changeover_cost = lp.lpSum(changeover[i] * 500 for i in weeks)\n",
        "\n",
        "prob += production_cost + inventory_cost + changeover_cost\n",
        "\n",
        "# Constraints as specified in the problem statement\n",
        "for i in weeks:\n",
        "    if i == 1:\n",
        "        prob += P_inventory[i] == P_initial_inventory + P_production[i] - demand_P[i]\n",
        "        prob += H_inventory[i] == H_initial_inventory + H_production[i] - demand_H[i]\n",
        "    else:\n",
        "        prob += P_inventory[i] == P_inventory[i-1] + P_production[i] - demand_P[i]\n",
        "        prob += H_inventory[i] == H_inventory[i-1] + H_production[i] - demand_H[i]\n",
        "\n",
        "    # Production capacity constraints\n",
        "    prob += P_production[i] <= produce_P[i] * P_production_capacity\n",
        "    prob += H_production[i] <= (1 - produce_P[i]) * H_production_capacity\n",
        "\n",
        "    # Changeover constraints\n",
        "    if i > 1:\n",
        "        prob += changeover[i] >= produce_P[i] - produce_P[i-1]\n",
        "        prob += changeover[i] >= produce_P[i-1] - produce_P[i]\n",
        "\n",
        "    # Safety stock constraints\n",
        "    if i < 9:\n",
        "        prob += P_inventory[i] >= 0.8 * demand_P[i+1]\n",
        "        prob += H_inventory[i] >= 0.8 * demand_H[i+1]\n",
        "\n",
        "# Solving the problem\n",
        "prob.solve()\n",
        "\n",
        "# Displaying results\n",
        "print(\"Week | P-Production | H-Production | P-Inventory | H-Inventory | Changeover\")\n",
        "print(\"---------------------------------------------------------------\")\n",
        "for i in weeks:\n",
        "    print(f\"{i:>4} | {P_production[i].varValue:>12} | {H_production[i].varValue:>12} | {P_inventory[i].varValue:>11} | {H_inventory[i].varValue:>11} | {int(changeover[i].varValue):>10}\")\n",
        "\n",
        "# Calculating and printing the cost breakdown\n",
        "total_production_cost = lp.value(production_cost)\n",
        "total_inventory_cost = lp.value(inventory_cost)\n",
        "total_changeover_cost = lp.value(changeover_cost)\n",
        "total_cost = lp.value(prob.objective)\n",
        "\n",
        "print(\"\\nCost Breakdown:\")\n",
        "print(f\"Total Production Cost: ${total_production_cost:.2f}\")\n",
        "print(f\"Total Inventory Cost: ${total_inventory_cost:.2f}\")\n",
        "print(f\"Total Changeover Cost: ${total_changeover_cost:.2f}\")\n",
        "print(f\"Total Cost: ${total_cost:.2f}\")\n"
      ],
      "metadata": {
        "colab": {
          "base_uri": "https://localhost:8080/"
        },
        "id": "A3LKHcrjrk3I",
        "outputId": "3efb5bfd-3398-4ef3-fbcb-c9e0a77d30b0"
      },
      "execution_count": 22,
      "outputs": [
        {
          "output_type": "stream",
          "name": "stdout",
          "text": [
            "Week | P-Production | H-Production | P-Inventory | H-Inventory | Changeover\n",
            "---------------------------------------------------------------\n",
            "   1 |         25.0 |          0.0 |        95.0 |       105.0 |          0\n",
            "   2 |        100.0 |          0.0 |       140.0 |        67.0 |          0\n",
            "   3 |        100.0 |          0.0 |       196.0 |        37.0 |          0\n",
            "   4 |          0.0 |          1.4 |       196.0 |        38.4 |          1\n",
            "   5 |          0.0 |         48.0 |       151.0 |        38.4 |          0\n",
            "   6 |          0.0 |         56.0 |       106.0 |        46.4 |          0\n",
            "   7 |          0.0 |         57.2 |        70.0 |        45.6 |          0\n",
            "   8 |          0.0 |         57.8 |        35.0 |        46.4 |          0\n",
            "   9 |          0.0 |         11.6 |         0.0 |         0.0 |          0\n",
            "\n",
            "Cost Breakdown:\n",
            "Total Production Cost: $122545.00\n",
            "Total Inventory Cost: $1327.60\n",
            "Total Changeover Cost: $500.00\n",
            "Total Cost: $124372.60\n"
          ]
        }
      ]
    },
    {
      "cell_type": "markdown",
      "source": [
        "# **Problem 4 - Assigning Technicians to Shifts**"
      ],
      "metadata": {
        "id": "VAmcBi-UrwjO"
      }
    },
    {
      "cell_type": "code",
      "source": [
        "import pulp\n",
        "import pandas as pd\n",
        "\n",
        "# Defining the variables as specified in the problem statement\n",
        "technicians = [1, 2, 3, 4, 5, 6, 7, 8]\n",
        "shifts = [1, 2, 3]\n",
        "categories = [1, 2, 3, 4]\n",
        "\n",
        "# Costs of assigning each technician to each shift\n",
        "costs = {\n",
        "    (1, 1): 280, (1, 2): 290, (1, 3): 300,\n",
        "    (2, 1): 300, (2, 2): 330, (2, 3): 350,\n",
        "    (3, 1): 270, (3, 2): 280, (3, 3): 290,\n",
        "    (4, 1): 180, (4, 2): 190, (4, 3): 200,\n",
        "    (5, 1): 175, (5, 2): 160, (5, 3): 185,\n",
        "    (6, 1): 225, (6, 2): 225, (6, 3): 225,\n",
        "    (7, 1): 295, (7, 2): 295, (7, 3): 315,\n",
        "    (8, 1): 305, (8, 2): 350, (8, 3): 320\n",
        "}\n",
        "\n",
        "# Certification categories for each technician\n",
        "certifications = {\n",
        "    1: [1, 2, 4],\n",
        "    2: [2, 3, 4],\n",
        "    3: [3, 4],\n",
        "    4: [1],\n",
        "    5: [2],\n",
        "    6: [2, 4],\n",
        "    7: [1, 2, 3],\n",
        "    8: [2, 4]\n",
        "}\n",
        "\n",
        "# Creating the Linear Programming problem\n",
        "lp = pulp.LpProblem(\"Technician_Shift_Assignment\", pulp.LpMinimize)\n",
        "\n",
        "# Creating the decision variables\n",
        "x = pulp.LpVariable.dicts(\"x\", [(i, j) for i in technicians for j in shifts], cat='Binary')\n",
        "\n",
        "# Objective function: Minimizing the total cost\n",
        "lp += pulp.lpSum([costs[(i, j)] * x[(i, j)] for i in technicians for j in shifts])\n",
        "\n",
        "# Constraints: Each technician is assigned to at most one shift\n",
        "for i in technicians:\n",
        "    lp += pulp.lpSum([x[(i, j)] for j in shifts]) <= 1\n",
        "\n",
        "# Constraints: Each shift has at least one certified technician in each category\n",
        "for j in shifts:\n",
        "    for c in categories:\n",
        "        lp += pulp.lpSum([x[(i, j)] for i in technicians if c in certifications[i]]) >= 1\n",
        "\n",
        "# Solving the Linear Programming problem\n",
        "lp.solve()\n",
        "\n",
        "# Outputting the results\n",
        "print(\"Status:\", pulp.LpStatus[lp.status])\n",
        "assignments = []\n",
        "total_cost = 0\n",
        "for j in shifts:\n",
        "    print(f\"Shift {j}:\")\n",
        "    shift_cost = 0\n",
        "    for i in technicians:\n",
        "        if x[(i, j)].varValue == 1:\n",
        "            print(f\"  Technician {i} (Cost: ${costs[(i, j)]})\")\n",
        "            assignments.append((i, j, costs[(i, j)]))\n",
        "            shift_cost += costs[(i, j)]\n",
        "    print(f\"  Total cost for Shift {j}: ${shift_cost}\")\n",
        "    total_cost += shift_cost\n",
        "\n",
        "# Calculating total cost\n",
        "print(f\"Total cost: ${total_cost}\")\n",
        "\n",
        "# Displaying the assignments\n",
        "assignments_df = pd.DataFrame(assignments, columns=['Technician', 'Shift', 'Cost'])\n",
        "print(assignments_df)\n"
      ],
      "metadata": {
        "colab": {
          "base_uri": "https://localhost:8080/"
        },
        "id": "tZzNVaJ0rsKu",
        "outputId": "313ee016-4da2-4efe-de7b-1868a9546817"
      },
      "execution_count": 23,
      "outputs": [
        {
          "output_type": "stream",
          "name": "stdout",
          "text": [
            "Status: Optimal\n",
            "Shift 1:\n",
            "  Technician 2 (Cost: $300)\n",
            "  Technician 4 (Cost: $180)\n",
            "  Total cost for Shift 1: $480\n",
            "Shift 2:\n",
            "  Technician 6 (Cost: $225)\n",
            "  Technician 7 (Cost: $295)\n",
            "  Total cost for Shift 2: $520\n",
            "Shift 3:\n",
            "  Technician 1 (Cost: $300)\n",
            "  Technician 3 (Cost: $290)\n",
            "  Total cost for Shift 3: $590\n",
            "Total cost: $1590\n",
            "   Technician  Shift  Cost\n",
            "0           2      1   300\n",
            "1           4      1   180\n",
            "2           6      2   225\n",
            "3           7      2   295\n",
            "4           1      3   300\n",
            "5           3      3   290\n"
          ]
        }
      ]
    },
    {
      "cell_type": "code",
      "source": [],
      "metadata": {
        "id": "J3uIJS3frvqW"
      },
      "execution_count": 23,
      "outputs": []
    }
  ]
}